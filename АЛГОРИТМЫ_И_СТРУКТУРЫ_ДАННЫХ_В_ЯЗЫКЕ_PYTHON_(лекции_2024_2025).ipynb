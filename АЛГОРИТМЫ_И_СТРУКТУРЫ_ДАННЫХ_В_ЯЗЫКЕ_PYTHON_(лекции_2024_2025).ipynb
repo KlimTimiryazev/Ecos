{
  "nbformat": 4,
  "nbformat_minor": 0,
  "metadata": {
    "colab": {
      "provenance": [],
      "collapsed_sections": [
        "GSh6eLhFwJ2H",
        "CpkD22eyq-d9",
        "ySBM1n9Krnsc",
        "a7vgvyN0tJK5",
        "xxGSDAR1tU2M",
        "DdCzrpWitvBm",
        "NH2ttXYvt0y2",
        "QoRX78yRt08B",
        "T1ewu3fXt1Cd",
        "zVOJEBygt1II",
        "2icFQHQ4t1L_",
        "0ZAD_0igt1PQ",
        "Ro0FwCPnt1Sa",
        "rZ2xeKOXt1VG",
        "3Tz8NFFKt1YT",
        "_0XrXj3vt1bT",
        "se6sPNlbt1eU"
      ],
      "include_colab_link": true
    },
    "kernelspec": {
      "name": "python3",
      "display_name": "Python 3"
    },
    "language_info": {
      "name": "python"
    }
  },
  "cells": [
    {
      "cell_type": "markdown",
      "metadata": {
        "id": "view-in-github",
        "colab_type": "text"
      },
      "source": [
        "<a href=\"https://colab.research.google.com/github/KlimTimiryazev/Ecos/blob/main/%D0%90%D0%9B%D0%93%D0%9E%D0%A0%D0%98%D0%A2%D0%9C%D0%AB_%D0%98_%D0%A1%D0%A2%D0%A0%D0%A3%D0%9A%D0%A2%D0%A3%D0%A0%D0%AB_%D0%94%D0%90%D0%9D%D0%9D%D0%AB%D0%A5_%D0%92_%D0%AF%D0%97%D0%AB%D0%9A%D0%95_PYTHON_(%D0%BB%D0%B5%D0%BA%D1%86%D0%B8%D0%B8_2024_2025).ipynb\" target=\"_parent\"><img src=\"https://colab.research.google.com/assets/colab-badge.svg\" alt=\"Open In Colab\"/></a>"
      ]
    },
    {
      "cell_type": "markdown",
      "source": [
        "# <font color='Teal'>**АЛГОРИТМЫ И СТРУКТУРЫ ДАННЫХ В ЯЗЫКЕ PYTHON**"
      ],
      "metadata": {
        "id": "t47VCKnxuuZn"
      }
    },
    {
      "cell_type": "markdown",
      "source": [
        "##<font color='Teal'>ПЕРВЫЙ СЕМЕСТР"
      ],
      "metadata": {
        "id": "GSh6eLhFwJ2H"
      }
    },
    {
      "cell_type": "markdown",
      "source": [
        "###[Тема 1. Введение в программирование на Python](https://colab.research.google.com/drive/1dC0TqRVDcAtCkzHn6PW_EmgMb7BSw6xa?usp=sharing)\n",
        "\n"
      ],
      "metadata": {
        "id": "CpkD22eyq-d9"
      }
    },
    {
      "cell_type": "markdown",
      "source": [
        "Общая информация о языке Python. История языка программирования, его связь с другими языками программирования, распространенность Python и основные сферы его применения. Знакомство с первыми примерами кода на Python. Философия Python.\n",
        "\n",
        "Базовая информация о языке Python. Основные типы данных. Основные числовые типы данных и операции над ними. Математические операции над числовыми типами данных. Преобразование типов данных. Переменные и специфика их объявления. Статическая и динамическая типизация. Работа с переменными. Управление памятью и сборка мусора в Python. Именование переменных.\n",
        "\n",
        "Работа со строками: создание строк, специальные символы. Индексирование строк, получение срезов строк. Основные функции для работы со строками. Вывод на экран (работа с функцией print) и форматирование строк. Различные подходы к форматированию строк, форматирование с помощью f-строк. Расширенное форматирование в Python."
      ],
      "metadata": {
        "id": "dnChHCkmrVTn"
      }
    },
    {
      "cell_type": "markdown",
      "source": [
        "###[Тема 2. Управляющие конструкции, списки и кортежи в Python](https://colab.research.google.com/drive/153dUyVw4HCDTj73x0Jxkf8PVmbFs64Fw?usp=sharing)\n",
        "\n"
      ],
      "metadata": {
        "id": "ySBM1n9Krnsc"
      }
    },
    {
      "cell_type": "markdown",
      "source": [
        "Управляющие конструкции в Python. Булев тип: объявление и операции. Операции сравнения в Python. Условные операторы в Python. Реализация задачи case в Python.\n",
        "\n",
        "Циклы в Python: `while`, `for`. Специфика циклов в Python. Функции `range` и `enumerate` и их использование в циклах.\n",
        "\n",
        "Списки и кортежи в Python. Специфика списков и их отличие от массивов. Создание списка, оперирование вложенными списками, копирование списков, операции над списками: индексация и срезы; изменение списка; поиск, сортировка и обход; изменение списка. Кортежи в Python: синтаксис, специфика использования."
      ],
      "metadata": {
        "id": "NainwfCHru9R"
      }
    },
    {
      "cell_type": "markdown",
      "source": [
        "###[Тема 3. Словари, множества и выражения-генераторы](https://colab.research.google.com/drive/1rFvN8qtN_lD-TLoc8pbaX3hLmIi4ohQm?usp=sharing)\n",
        "\n"
      ],
      "metadata": {
        "id": "a7vgvyN0tJK5"
      }
    },
    {
      "cell_type": "markdown",
      "source": [
        "Словари в Python. Словари: семантика, синтаксис создания, операции над словарями, перебор элементов словаря.\n",
        "\n",
        "Множества в Python. Множества: семантика, синтаксис создания, операции над множествами, перебор элементов в множестве. Специфика операций с множествами в Python.\n",
        "\n",
        "Выражения-генераторы в Python. Выражения-генераторы для списков: семантика и синтаксис. Пример: задача приведения списка к «плоскому» виду. Выражения-генераторы для множеств и словарей. Кейсы использования и производительность решений с использованием выражений-генераторов."
      ],
      "metadata": {
        "id": "32TUJUKBtF2-"
      }
    },
    {
      "cell_type": "markdown",
      "source": [
        "###[Тема 4. Функции](https://colab.research.google.com/drive/1WcxT43hKEQt8a1ZFdVYD2v1Hd_zxLN9O?usp=sharing)\n",
        "\n"
      ],
      "metadata": {
        "id": "xxGSDAR1tU2M"
      }
    },
    {
      "cell_type": "markdown",
      "source": [
        "Функции в Python: общая семантика. Создание функции и ее вызов. Расположение определений функций. Анонимные функции в Python. Необязательные параметры функций и сопоставление по ключам. Возвращение нескольких значений из функции. Распаковка и запаковка параметров функции. Аннотации и документирование функций. Глобальные и локальные переменные."
      ],
      "metadata": {
        "id": "KT1wNLnDtbzf"
      }
    },
    {
      "cell_type": "markdown",
      "source": [
        "###[Тема 5. Работа с файлами и обработка исключительных ситуаций](https://colab.research.google.com/drive/1qkvGitROKvvqWLptgMrQ-xTN0p8Nu3Eu?usp=sharing)\n",
        "\n"
      ],
      "metadata": {
        "id": "DdCzrpWitvBm"
      }
    },
    {
      "cell_type": "markdown",
      "source": [
        "Обработка исключений в Python: кейсы для использования. Инструкция `try ... except ... else ... finally`. Классы встроенных исключений. Создание пользовательских исключений. Инструкция assert.\n",
        "\n",
        "Работа с файлами в Python. Концепция файла в современных ОС и языках программирования. Операции с файлами: открытие/закрытие файла, чтение и записи и другие методы для работы с файлами. Инструкция `with ... as` и ее использование для файлов.\n",
        "\n",
        "Сохранение объектов в файл с помощью модуля `pickle` и `shelve`. Модуль `CSV`."
      ],
      "metadata": {
        "id": "UXvZZ1e4v98u"
      }
    },
    {
      "cell_type": "markdown",
      "source": [
        "###[Тема 6. Модули и пакеты](https://colab.research.google.com/drive/18QDV0kAPnOwRTlMg49FMqFyf9-H2dc7O?usp=sharing)\n",
        "\n"
      ],
      "metadata": {
        "id": "NH2ttXYvt0y2"
      }
    },
    {
      "cell_type": "markdown",
      "source": [
        "Модули и пакеты в Python: подход к структурированию программного кода с помощью модулей и пакетов. Синтаксис импортирования в Python. Создание и работа с пакетами в Python. Повторная загрузка модулей.\n",
        "\n",
        "Написание и запуск скриптов на Python. Установка модулей из глобального репозитария."
      ],
      "metadata": {
        "id": "4LaYl8I4v6HQ"
      }
    },
    {
      "cell_type": "markdown",
      "source": [
        "###[Тема 7. Продвинутые коллекции](https://colab.research.google.com/drive/1q1LmPU-x-z_uqtSex1cqtQKtJ1kC5cv9?usp=sharing)\n",
        "\n"
      ],
      "metadata": {
        "id": "QoRX78yRt08B"
      }
    },
    {
      "cell_type": "markdown",
      "source": [
        "Модули стандартной библиотеки Python, предоставляющие дополнительный функционал по работе с коллекциями объектов. Класс `frozenset`. Модуль `collections`. Класс `Counter`, класс `defaultdict`, класс `OrderedDict`, класс `namedtuple`. Модуль `enum`."
      ],
      "metadata": {
        "id": "yHjYTgQmvxwg"
      }
    },
    {
      "cell_type": "markdown",
      "source": [
        "###[Тема 8. Обзор современных языков программирования](https://colab.research.google.com/drive/1VTK46XYFEZ4mGsRuCCH7kXPepan8N8h0?usp=sharing)\n",
        "\n"
      ],
      "metadata": {
        "id": "T1ewu3fXt1Cd"
      }
    },
    {
      "cell_type": "markdown",
      "source": [
        "История и эволюция языков программирования. Распространенность современных языков программирования. Классификация языков программирования. Парадигмы программирования. Специализация языков программирования. Место Python в современном ландшафте языков программирования.\n",
        "\n",
        "Характеристики языков программирования: способ передачи параметров в функцию; способ управления динамической памятью; виды типизации переменных."
      ],
      "metadata": {
        "id": "-w04FiWMvuQn"
      }
    },
    {
      "cell_type": "markdown",
      "source": [
        "##<font color='Teal'>ВТОРОЙ СЕМЕСТР"
      ],
      "metadata": {
        "id": "n5HTYK3ZJWJg"
      }
    },
    {
      "cell_type": "markdown",
      "source": [
        "###[Тема 9. Введение в объектно-ориентированное программирование](https://colab.research.google.com/drive/14e0PXdqKKZljIT6aBtGgOFYKj5HQdRMs?usp=sharing)\n",
        "\n"
      ],
      "metadata": {
        "id": "zVOJEBygt1II"
      }
    },
    {
      "cell_type": "markdown",
      "source": [
        "Предпосылки и история появления ООП. Объекты и классы в ООП. Принципы и основные механизмы ООП. Логика работы абстракции, инкапсуляции, наследования и полиморфизма.\n",
        "\n",
        "Python как объектно-ориентированный язык программирования. Базовые возможности ООП в Python: создание классов и объектов; наследование и полиморфизм; функция `super()`; проверка принадлежности к классу. Базовые типы в Python."
      ],
      "metadata": {
        "id": "ux2umeY1vm0w"
      }
    },
    {
      "cell_type": "markdown",
      "source": [
        "###[Тема 10. Объектно-ориентированное программирование в Python](https://colab.research.google.com/drive/1AYOWUoajBUFHSldnSWyzJrQVIIj7veDH?usp=sharing)\n",
        "\n"
      ],
      "metadata": {
        "id": "2icFQHQ4t1L_"
      }
    },
    {
      "cell_type": "markdown",
      "source": [
        "Методы классов и статические переменные и методы в Python. Управление доступом к атрибутам класса в Python. Динамические операции с атрибутами и интроспекция в Python. Использование специальных методов для расширенного функционала пользовательских классов. Кейс построения иерархии классов."
      ],
      "metadata": {
        "id": "JypSuw6QvjJE"
      }
    },
    {
      "cell_type": "markdown",
      "source": [
        "###[Тема 11. Введение в функциональное программирование](https://colab.research.google.com/drive/13LYEbvGQ9BQpSbJwm5UiyT2nDHYYFNhD?usp=sharing)\n",
        "\n"
      ],
      "metadata": {
        "id": "0ZAD_0igt1PQ"
      }
    },
    {
      "cell_type": "markdown",
      "source": [
        "Парадигмы и идиомы программирования, общая концепция функционального программирования. Функциональные языки программирования.\n",
        "\n",
        "Функции «граждане первого класса», функции высшего порядка, замыкания, функции без побочных эффектов, рекурсия, хвостовая рекурсия. Неизменяемые структуры данных. Идиомы, распространенные в функциональных языках программирования: итераторы, последовательности, ленивые вычисления, сопоставление с образцом, монады.\n",
        "\n",
        "Элементы функционального программирования в Python: функции — граждане первого класса; глобальные и локальные переменные в Python; вложенные функции и замыкания в Python.\n",
        "\n",
        "Декораторы в Python: использование и создание собственных декораторов."
      ],
      "metadata": {
        "id": "rYWMP_NevhGN"
      }
    },
    {
      "cell_type": "markdown",
      "source": [
        "###[Тема 12. Функциональное программирование в Python](https://colab.research.google.com/drive/1wPsKtKJcxSeNPDAuVp99hin0BaYupgTD?usp=sharing)\n",
        "\n"
      ],
      "metadata": {
        "id": "Ro0FwCPnt1Sa"
      }
    },
    {
      "cell_type": "markdown",
      "source": [
        "Подход: `map`, `filter`, `reduce`. Реализация функций `map`, `filter`, `reduce` в Python.\n",
        "\n",
        "Итераторы в Python, итерируемый тип данных. Модуль `itertools`.\n",
        "\n",
        "Функции-генераторы и выражения-генераторы в Python."
      ],
      "metadata": {
        "id": "xxn-BRAJvXlY"
      }
    },
    {
      "cell_type": "markdown",
      "source": [
        "###[Тема 13. Структуры данных: массивы, стеки, очереди, списки](https://colab.research.google.com/drive/1KWlrqk2_uPBBl0fWvIAc5qiC7LlypXDc?usp=sharing)\n",
        "\n"
      ],
      "metadata": {
        "id": "rZ2xeKOXt1VG"
      }
    },
    {
      "cell_type": "markdown",
      "source": [
        "Введение в анализ сложности алгоритмов.\n",
        "\n",
        "Массивы и их отличие от списков в Python. Динамические массивы, сложность операций работы с динамическими массивами.\n",
        "\n",
        "Стек, операции со стеком. Реализации стека. Очередь, операции с очередью. Реализация очереди. Связные списки, варианты связанных списков."
      ],
      "metadata": {
        "id": "y_kFgpzDvS-Y"
      }
    },
    {
      "cell_type": "markdown",
      "source": [
        "###[Тема 14. Алгоритмы поиска и сортировки](https://colab.research.google.com/drive/1_sCPRNXA_ddk1S5g-BK6FNvXE_S2Uvxl?usp=sharing)\n",
        "\n"
      ],
      "metadata": {
        "id": "3Tz8NFFKt1YT"
      }
    },
    {
      "cell_type": "markdown",
      "source": [
        "Поиск в списках/массивах, бинарный поиск. Сортировка и ее использование в прикладных задачах.\n",
        "\n",
        "Простые методы сортировки: обменные сортировки (с различными вариациями); сортировка выбором (извлечением); сортировка включением (вставками).\n",
        "\n",
        "Эффективные методы сортировки: быстрая сортировка; сортировка Шелла; сортировка слиянием. Сравнение различных сортировок."
      ],
      "metadata": {
        "id": "DoAqzwPdvL_z"
      }
    },
    {
      "cell_type": "markdown",
      "source": [
        "###[Тема 15. Структуры данных: деревья](https://colab.research.google.com/drive/1xqOctoO-xEtBng2j8tecggYoso87CIMb?usp=sharing)\n",
        "\n"
      ],
      "metadata": {
        "id": "_0XrXj3vt1bT"
      }
    },
    {
      "cell_type": "markdown",
      "source": [
        "Деревья, бинарные деревья. Использование бинарных деревьев в прикладных задачах: представление выражения (предложения) в виде дерева. Обход бинарных деревьев.\n",
        "\n",
        "Двоичное дерево поиска. Двоичные кучи и очереди с приоритетом."
      ],
      "metadata": {
        "id": "kGKOreJivCeG"
      }
    },
    {
      "cell_type": "markdown",
      "source": [
        "###[Тема 16. Хеш-таблицы](https://colab.research.google.com/drive/1SIfqpCmIWzp5gK3h2nB70TO3c6h4wyJ-?usp=sharing)\n",
        "\n"
      ],
      "metadata": {
        "id": "se6sPNlbt1eU"
      }
    },
    {
      "cell_type": "markdown",
      "source": [
        "Абстрактный тип данных — ассоциативный массив. Таблица с прямой адресацией. Хеш-таблица, хеш-функция: метод деления; метод MAD. Полиномиальная хеш-функция.\n",
        "\n",
        "Функция `hash` в Python.\n",
        "\n",
        "Методы разрешения коллизий."
      ],
      "metadata": {
        "id": "OPJpcRLnu83c"
      }
    }
  ]
}